{
 "cells": [
  {
   "cell_type": "code",
   "execution_count": 1,
   "id": "3ebe0943",
   "metadata": {},
   "outputs": [
    {
     "name": "stdout",
     "output_type": "stream",
     "text": [
      "{1, 2, 3, 4}\n"
     ]
    }
   ],
   "source": [
    "seq={1,2,3,4}\n",
    "print(seq)"
   ]
  },
  {
   "cell_type": "code",
   "execution_count": 6,
   "id": "32dd8d48",
   "metadata": {},
   "outputs": [
    {
     "name": "stdout",
     "output_type": "stream",
     "text": [
      "Both in serpulo and erekir {'titanium', 'water', 'core'}\n",
      "Either in serpulo or erekir {'titanium', 'foreshadows', 'shard', 'Conveyors', 'water', 'core', 'Duo', 'ducts'}\n",
      "{'titanium', 'Conveyors', 'core', 'Duo', 'water'}\n"
     ]
    }
   ],
   "source": [
    "serpulo={\"Duo\",\"Conveyors\",\"core\",\"water\",\"titanium\"}\n",
    "erekir={\"foreshadows\",\"ducts\",\"core\",\"water\",\"titanium\",\"shard\"}\n",
    "print(\"Both in serpulo and erekir\",serpulo.intersection(erekir))\n",
    "print(\"Either in serpulo or erekir\",serpulo.union(erekir))\n",
    "print(\"In serpulo but not in erekir\",se)\n",
    "#print(\"Serpulo but not in erekir\",)"
   ]
  }
 ],
 "metadata": {
  "kernelspec": {
   "display_name": "Python 3 (ipykernel)",
   "language": "python",
   "name": "python3"
  },
  "language_info": {
   "codemirror_mode": {
    "name": "ipython",
    "version": 3
   },
   "file_extension": ".py",
   "mimetype": "text/x-python",
   "name": "python",
   "nbconvert_exporter": "python",
   "pygments_lexer": "ipython3",
   "version": "3.9.7"
  }
 },
 "nbformat": 4,
 "nbformat_minor": 5
}
