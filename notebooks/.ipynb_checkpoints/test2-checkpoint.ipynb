{
 "cells": [
  {
   "cell_type": "code",
   "execution_count": 8,
   "id": "c5f101fb",
   "metadata": {},
   "outputs": [
    {
     "name": "stdout",
     "output_type": "stream",
     "text": [
      "('Ayush', 20)\n",
      "('Aryan', 19)\n",
      "('Rahul', 22)\n"
     ]
    }
   ],
   "source": [
    "seq=[\"Ayush\",\"Aryan\",\"Rahul\"]\n",
    "age=[20,19,22,24,28]\n",
    "for i in list(zip(seq,age)): #prints tuples\n",
    "    print(i)"
   ]
  },
  {
   "cell_type": "code",
   "execution_count": 9,
   "id": "213d176a",
   "metadata": {},
   "outputs": [
    {
     "name": "stdout",
     "output_type": "stream",
     "text": [
      "Ayush 20\n",
      "Aryan 19\n",
      "Rahul 22\n"
     ]
    }
   ],
   "source": [
    "seq=[\"Ayush\",\"Aryan\",\"Rahul\"]\n",
    "age=[20,19,22,24,28]\n",
    "for a,b in list(zip(seq,age)): #unpacks tuples and prints items\n",
    "    print(a,b)"
   ]
  },
  {
   "cell_type": "code",
   "execution_count": 10,
   "id": "6a0e6e28",
   "metadata": {},
   "outputs": [
    {
     "name": "stdout",
     "output_type": "stream",
     "text": [
      "Ayush is younger than Aryan is younger than Rahul\n"
     ]
    }
   ],
   "source": [
    "seq=(\"Ayush\",\"Aryan\",\"Rahul\")\n",
    "#C like string formatting\n",
    "print(\"%s is younger than %s is younger than %s\" %(seq[0],seq[1],seq[2]))"
   ]
  },
  {
   "cell_type": "code",
   "execution_count": 11,
   "id": "581ca642",
   "metadata": {},
   "outputs": [
    {
     "name": "stdout",
     "output_type": "stream",
     "text": [
      "[1, 2, 3, 4, 5, 6, 7]\n"
     ]
    }
   ],
   "source": [
    "tup=(7,6,5,4,3,2,1)\n",
    "print(sorted(tup))"
   ]
  },
  {
   "cell_type": "code",
   "execution_count": null,
   "id": "513c8cc9",
   "metadata": {},
   "outputs": [],
   "source": []
  }
 ],
 "metadata": {
  "kernelspec": {
   "display_name": "Python 3 (ipykernel)",
   "language": "python",
   "name": "python3"
  },
  "language_info": {
   "codemirror_mode": {
    "name": "ipython",
    "version": 3
   },
   "file_extension": ".py",
   "mimetype": "text/x-python",
   "name": "python",
   "nbconvert_exporter": "python",
   "pygments_lexer": "ipython3",
   "version": "3.9.7"
  }
 },
 "nbformat": 4,
 "nbformat_minor": 5
}
