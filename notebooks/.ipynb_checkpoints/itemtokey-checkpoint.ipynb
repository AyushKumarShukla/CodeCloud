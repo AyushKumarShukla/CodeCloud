{
 "cells": [
  {
   "cell_type": "code",
   "execution_count": null,
   "id": "6dd8593f",
   "metadata": {},
   "outputs": [],
   "source": [
    "def print_matching_keys(dict_var,arg):\n",
    "    keylist=[]\n",
    "    for key,item in my_dict.items():\n",
    "        if item==arg:\n",
    "            keylist.append(key)\n",
    "    return keylist\n",
    "    "
   ]
  },
  {
   "cell_type": "code",
   "execution_count": 1,
   "id": "6d365c46",
   "metadata": {},
   "outputs": [
    {
     "name": "stdout",
     "output_type": "stream",
     "text": [
      "{'Student 1': 'Ayush', 'Student 2': 'Aryan', 'Student 3': 'Ayush', 'Student 4': 'Ram', 'Student 5': 'Aryan', 'Student 6': 'Ram'}\n",
      "['Student 2', 'Student 5']\n"
     ]
    }
   ],
   "source": [
    "def print_matching_keys(dict_var,arg):\n",
    "    if(arg in dict_var.values()):\n",
    "        keylist=[]\n",
    "        for key,item in my_dict.items():\n",
    "            if item==arg:\n",
    "                keylist.append(key)\n",
    "        return keylist\n",
    "    else:\n",
    "        return -1\n",
    "\n",
    "#driver code\n",
    "my_dict={\n",
    "        \"Student 1\":\"Ayush\",\n",
    "        \"Student 2\":\"Aryan\",\n",
    "        \"Student 3\":\"Ayush\",\n",
    "        \"Student 4\":\"Ram\",\n",
    "        \"Student 5\":\"Aryan\",\n",
    "        \"Student 6\":\"Ram\"    \n",
    "}\n",
    "print(my_dict)\n",
    "retlist=print_matching_keys(my_dict,\"Aryan\")\n",
    "print(retlist)   "
   ]
  }
 ],
 "metadata": {
  "kernelspec": {
   "display_name": "Python 3 (ipykernel)",
   "language": "python",
   "name": "python3"
  },
  "language_info": {
   "codemirror_mode": {
    "name": "ipython",
    "version": 3
   },
   "file_extension": ".py",
   "mimetype": "text/x-python",
   "name": "python",
   "nbconvert_exporter": "python",
   "pygments_lexer": "ipython3",
   "version": "3.9.7"
  }
 },
 "nbformat": 4,
 "nbformat_minor": 5
}
