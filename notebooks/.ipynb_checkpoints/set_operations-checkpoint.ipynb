{
 "cells": [
  {
   "cell_type": "code",
   "execution_count": 1,
   "id": "aebc2627",
   "metadata": {},
   "outputs": [
    {
     "name": "stdout",
     "output_type": "stream",
     "text": [
      "{1, 2, 3, 4}\n"
     ]
    }
   ],
   "source": [
    "seq={1,2,3,4}\n",
    "print(seq)"
   ]
  },
  {
   "cell_type": "code",
   "execution_count": 9,
   "id": "daa86556",
   "metadata": {},
   "outputs": [
    {
     "name": "stdout",
     "output_type": "stream",
     "text": [
      "Both in serpulo and erekir {'titanium', 'water', 'core'}\n",
      "Either in serpulo or erekir {'titanium', 'foreshadows', 'shard', 'Conveyors', 'water', 'core', 'Duo', 'ducts'}\n",
      "In serpulo but not in erekir/in serpulo only {'Duo', 'Conveyors'}\n",
      "Not Shared Between The Planets {'foreshadows', 'shard', 'Conveyors', 'Duo', 'ducts'}\n"
     ]
    }
   ],
   "source": [
    "serpulo={\"Duo\",\"Conveyors\",\"core\",\"water\",\"titanium\"}\n",
    "erekir={\"foreshadows\",\"ducts\",\"core\",\"water\",\"titanium\",\"shard\"}\n",
    "print(\"Both in serpulo and erekir\",serpulo.intersection(erekir))\n",
    "print(\"Either in serpulo or erekir\",serpulo.union(erekir))\n",
    "print(\"In serpulo but not in erekir/in serpulo only\",serpulo.difference(erekir))\n",
    "print(\"Not Shared Between The Planets\",serpulo.symmetric_difference(erekir))\n",
    "#print(\"Serpulo but not in erekir\",)"
   ]
  },
  {
   "cell_type": "code",
   "execution_count": 20,
   "id": "bcebc1d6",
   "metadata": {},
   "outputs": [
    {
     "name": "stdout",
     "output_type": "stream",
     "text": [
      "Enter comma sep vals: 1 2 3 4\n",
      "['1', ' ', '2', ' ', '3', ' ', '4']\n"
     ]
    }
   ],
   "source": [
    "seq=set()\n",
    "seq=([i for i in list(input(\"Enter comma sep vals: \")).strip(' ')])\n",
    "print(seq)"
   ]
  },
  {
   "cell_type": "code",
   "execution_count": null,
   "id": "1c186c0a",
   "metadata": {},
   "outputs": [],
   "source": []
  }
 ],
 "metadata": {
  "kernelspec": {
   "display_name": "Python 3 (ipykernel)",
   "language": "python",
   "name": "python3"
  },
  "language_info": {
   "codemirror_mode": {
    "name": "ipython",
    "version": 3
   },
   "file_extension": ".py",
   "mimetype": "text/x-python",
   "name": "python",
   "nbconvert_exporter": "python",
   "pygments_lexer": "ipython3",
   "version": "3.9.7"
  }
 },
 "nbformat": 4,
 "nbformat_minor": 5
}
