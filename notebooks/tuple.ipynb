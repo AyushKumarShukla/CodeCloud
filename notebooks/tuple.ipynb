{
 "cells": [
  {
   "cell_type": "code",
   "execution_count": 37,
   "id": "fa15856f",
   "metadata": {},
   "outputs": [
    {
     "name": "stdout",
     "output_type": "stream",
     "text": [
      "('a', 'b', 'c', 'a', 'b', 'c', 'a', 'b', 's', 'c', 'b', 'a', 's', 'c', 'b', 'a', 's', 'c')\n",
      "0\n"
     ]
    }
   ],
   "source": [
    "seq=\"abcabcabscbascbasc\"\n",
    "seq=tuple(seq)\n",
    "print(seq)\n",
    "print(seq.count('z'))"
   ]
  },
  {
   "cell_type": "code",
   "execution_count": 42,
   "id": "eb2803eb",
   "metadata": {},
   "outputs": [
    {
     "name": "stdout",
     "output_type": "stream",
     "text": [
      "1 2\n"
     ]
    }
   ],
   "source": [
    "def disp(v1,v2):\n",
    "    print(v1,v2)\n",
    "seq=(1,2)\n",
    "disp(*seq) #scatter"
   ]
  },
  {
   "cell_type": "code",
   "execution_count": 34,
   "id": "2d85ee98",
   "metadata": {},
   "outputs": [
    {
     "name": "stdout",
     "output_type": "stream",
     "text": [
      "((1, 2), (1, 2))\n"
     ]
    }
   ],
   "source": [
    "def disp(*v): #gather\n",
    "    print(v) \n",
    "seq=(1,2)\n",
    "seq2=(1,2)\n",
    "disp(seq,seq2)"
   ]
  },
  {
   "cell_type": "code",
   "execution_count": 35,
   "id": "73294953",
   "metadata": {},
   "outputs": [
    {
     "name": "stdout",
     "output_type": "stream",
     "text": [
      "1\n"
     ]
    }
   ],
   "source": [
    "tup=1,2,3\n",
    "a,b,c=tup\n",
    "print(a)"
   ]
  },
  {
   "cell_type": "code",
   "execution_count": 41,
   "id": "1532cfc9",
   "metadata": {},
   "outputs": [
    {
     "name": "stdout",
     "output_type": "stream",
     "text": [
      "<class 'list'>\n"
     ]
    }
   ],
   "source": [
    "tup1=(1,2,3,4)\n",
    "tup2=([i*2 for i in tup1])\n",
    "print(type(tup2))"
   ]
  },
  {
   "cell_type": "code",
   "execution_count": null,
   "id": "6fbd9e78",
   "metadata": {},
   "outputs": [],
   "source": []
  }
 ],
 "metadata": {
  "kernelspec": {
   "display_name": "Python 3 (ipykernel)",
   "language": "python",
   "name": "python3"
  },
  "language_info": {
   "codemirror_mode": {
    "name": "ipython",
    "version": 3
   },
   "file_extension": ".py",
   "mimetype": "text/x-python",
   "name": "python",
   "nbconvert_exporter": "python",
   "pygments_lexer": "ipython3",
   "version": "3.9.7"
  }
 },
 "nbformat": 4,
 "nbformat_minor": 5
}
