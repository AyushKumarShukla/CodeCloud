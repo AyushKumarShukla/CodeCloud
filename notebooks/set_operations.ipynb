{
 "cells": [
  {
   "cell_type": "code",
   "execution_count": 1,
   "id": "aebc2627",
   "metadata": {},
   "outputs": [
    {
     "name": "stdout",
     "output_type": "stream",
     "text": [
      "{1, 2, 3, 4}\n"
     ]
    }
   ],
   "source": [
    "seq={1,2,3,4}\n",
    "print(seq)"
   ]
  },
  {
   "cell_type": "code",
   "execution_count": 9,
   "id": "daa86556",
   "metadata": {},
   "outputs": [
    {
     "name": "stdout",
     "output_type": "stream",
     "text": [
      "Both in serpulo and erekir {'titanium', 'water', 'core'}\n",
      "Either in serpulo or erekir {'titanium', 'foreshadows', 'shard', 'Conveyors', 'water', 'core', 'Duo', 'ducts'}\n",
      "In serpulo but not in erekir/in serpulo only {'Duo', 'Conveyors'}\n",
      "Not Shared Between The Planets {'foreshadows', 'shard', 'Conveyors', 'Duo', 'ducts'}\n"
     ]
    }
   ],
   "source": [
    "serpulo={\"Duo\",\"Conveyors\",\"core\",\"water\",\"titanium\"}\n",
    "erekir={\"foreshadows\",\"ducts\",\"core\",\"water\",\"titanium\",\"shard\"}\n",
    "print(\"Both in serpulo and erekir\",serpulo.intersection(erekir))\n",
    "print(\"Either in serpulo or erekir\",serpulo.union(erekir))\n",
    "print(\"In serpulo but not in erekir/in serpulo only\",serpulo.difference(erekir))\n",
    "print(\"Not Shared Between The Planets\",serpulo.symmetric_difference(erekir))\n",
    "#print(\"Serpulo but not in erekir\",)"
   ]
  },
  {
   "cell_type": "code",
   "execution_count": 25,
   "id": "bcebc1d6",
   "metadata": {},
   "outputs": [
    {
     "name": "stdout",
     "output_type": "stream",
     "text": [
      "Enter the number of elements to be added5\n",
      "enter item: 1\n",
      "enter item: 2\n",
      "enter item: 3\n",
      "enter item: 4\n",
      "enter item: 5\n",
      "{'2', '5', '3', '4', '1'}\n"
     ]
    }
   ],
   "source": [
    "seq=set()\n",
    "size=int(input(\"Enter the number of elements to be added\"))\n",
    "for i in range(size):\n",
    "    item=input(\"enter item: \")\n",
    "    seq.add(item)\n",
    "print(seq)"
   ]
  },
  {
   "cell_type": "code",
   "execution_count": 29,
   "id": "1c186c0a",
   "metadata": {},
   "outputs": [
    {
     "name": "stdout",
     "output_type": "stream",
     "text": [
      "{1, 3, 4, 5}\n"
     ]
    }
   ],
   "source": [
    "seq=set([1,2,3,4,5])\n",
    "seq.remove(2)\n",
    "print(seq)\n"
   ]
  },
  {
   "cell_type": "code",
   "execution_count": 44,
   "id": "a2745f2a",
   "metadata": {},
   "outputs": [
    {
     "name": "stdout",
     "output_type": "stream",
     "text": [
      "{0, 1, 2, 3, 4, 5, 6, 7, 8, 9}\n",
      "set()\n"
     ]
    }
   ],
   "source": [
    "seq=set([i for i in range(10)])\n",
    "print(seq)\n",
    "seq.clear()\n",
    "print(seq)"
   ]
  }
 ],
 "metadata": {
  "kernelspec": {
   "display_name": "Python 3 (ipykernel)",
   "language": "python",
   "name": "python3"
  },
  "language_info": {
   "codemirror_mode": {
    "name": "ipython",
    "version": 3
   },
   "file_extension": ".py",
   "mimetype": "text/x-python",
   "name": "python",
   "nbconvert_exporter": "python",
   "pygments_lexer": "ipython3",
   "version": "3.9.7"
  }
 },
 "nbformat": 4,
 "nbformat_minor": 5
}
