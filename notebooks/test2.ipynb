{
 "cells": [
  {
   "cell_type": "code",
   "execution_count": 8,
   "id": "99d1c407",
   "metadata": {},
   "outputs": [
    {
     "name": "stdout",
     "output_type": "stream",
     "text": [
      "('Ayush', 20)\n",
      "('Aryan', 19)\n",
      "('Rahul', 22)\n"
     ]
    }
   ],
   "source": [
    "seq=[\"Ayush\",\"Aryan\",\"Rahul\"]\n",
    "age=[20,19,22,24,28]\n",
    "for i in list(zip(seq,age)): #prints tuples\n",
    "    print(i)"
   ]
  },
  {
   "cell_type": "code",
   "execution_count": 9,
   "id": "e74f34b3",
   "metadata": {},
   "outputs": [
    {
     "name": "stdout",
     "output_type": "stream",
     "text": [
      "Ayush 20\n",
      "Aryan 19\n",
      "Rahul 22\n"
     ]
    }
   ],
   "source": [
    "seq=[\"Ayush\",\"Aryan\",\"Rahul\"]\n",
    "age=[20,19,22,24,28]\n",
    "for a,b in list(zip(seq,age)): #unpacks tuples and prints items\n",
    "    print(a,b)"
   ]
  },
  {
   "cell_type": "code",
   "execution_count": 10,
   "id": "c912e48e",
   "metadata": {},
   "outputs": [
    {
     "name": "stdout",
     "output_type": "stream",
     "text": [
      "Ayush is younger than Aryan is younger than Rahul\n"
     ]
    }
   ],
   "source": [
    "seq=(\"Ayush\",\"Aryan\",\"Rahul\")\n",
    "#C like string formatting\n",
    "print(\"%s is younger than %s is younger than %s\" %(seq[0],seq[1],seq[2]))"
   ]
  },
  {
   "cell_type": "code",
   "execution_count": 11,
   "id": "1a526734",
   "metadata": {},
   "outputs": [
    {
     "name": "stdout",
     "output_type": "stream",
     "text": [
      "[1, 2, 3, 4, 5, 6, 7]\n"
     ]
    }
   ],
   "source": [
    "tup=(7,6,5,4,3,2,1)\n",
    "print(sorted(tup))"
   ]
  },
  {
   "cell_type": "code",
   "execution_count": 19,
   "id": "0bb432d1",
   "metadata": {},
   "outputs": [
    {
     "name": "stdout",
     "output_type": "stream",
     "text": [
      "Ayush is 20 and is a CS student\n"
     ]
    }
   ],
   "source": [
    "v1=\"Ayush\"\n",
    "v2=20\n",
    "v3=\"CS\"\n",
    "print(\"%s is %d and is a %s student\" %(v1,v2,v3))"
   ]
  }
 ],
 "metadata": {
  "kernelspec": {
   "display_name": "Python 3 (ipykernel)",
   "language": "python",
   "name": "python3"
  },
  "language_info": {
   "codemirror_mode": {
    "name": "ipython",
    "version": 3
   },
   "file_extension": ".py",
   "mimetype": "text/x-python",
   "name": "python",
   "nbconvert_exporter": "python",
   "pygments_lexer": "ipython3",
   "version": "3.9.7"
  }
 },
 "nbformat": 4,
 "nbformat_minor": 5
}
