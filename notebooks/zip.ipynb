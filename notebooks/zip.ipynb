{
 "cells": [
  {
   "cell_type": "code",
   "execution_count": 8,
   "id": "e4f4e457",
   "metadata": {},
   "outputs": [
    {
     "name": "stdout",
     "output_type": "stream",
     "text": [
      "('Ayush', 20)\n",
      "('Aryan', 19)\n",
      "('Rahul', 22)\n"
     ]
    }
   ],
   "source": [
    "seq=[\"Ayush\",\"Aryan\",\"Rahul\"]\n",
    "age=[20,19,22,24,28]\n",
    "for i in list(zip(seq,age)): #prints tuples\n",
    "    print(i)"
   ]
  },
  {
   "cell_type": "code",
   "execution_count": 9,
   "id": "397b4c07",
   "metadata": {},
   "outputs": [
    {
     "name": "stdout",
     "output_type": "stream",
     "text": [
      "Ayush 20\n",
      "Aryan 19\n",
      "Rahul 22\n"
     ]
    }
   ],
   "source": [
    "seq=[\"Ayush\",\"Aryan\",\"Rahul\"]\n",
    "age=[20,19,22,24,28]\n",
    "for a,b in list(zip(seq,age)): #unpacks tuples and prints items\n",
    "    print(a,b)"
   ]
  }
 ],
 "metadata": {
  "kernelspec": {
   "display_name": "Python 3 (ipykernel)",
   "language": "python",
   "name": "python3"
  },
  "language_info": {
   "codemirror_mode": {
    "name": "ipython",
    "version": 3
   },
   "file_extension": ".py",
   "mimetype": "text/x-python",
   "name": "python",
   "nbconvert_exporter": "python",
   "pygments_lexer": "ipython3",
   "version": "3.9.7"
  }
 },
 "nbformat": 4,
 "nbformat_minor": 5
}
