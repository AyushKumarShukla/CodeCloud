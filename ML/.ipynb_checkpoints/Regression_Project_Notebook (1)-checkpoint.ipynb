{
 "cells": [
  {
   "cell_type": "markdown",
   "id": "8e4c461a",
   "metadata": {},
   "source": [
    "\n",
    "# Project 1: Comprehensive Regression Analysis\n",
    "### Course: Introduction to Machine Learning\n",
    "\n",
    "This notebook is designed to guide you through a comprehensive regression analysis using various techniques. You will explore different methods, implement regularization techniques, and evaluate the performance of your models using various metrics and computational time.\n",
    "\n",
    "\n",
    "## Submission Instructions\n",
    "\n",
    "Once you are finished, follow these steps:\n",
    "\n",
    "Make sure you have provided the team name, name of team members with IDs. \n",
    "\n",
    "Restart the kernel and re-run this notebook from beginning to end by going to Kernel > Restart Kernel and Run All Cells. If this process stops halfway through, that means there was an error. Correct the error and repeat Step 1 until the notebook runs from beginning to end. Double check that there is a number next to each code cell and that these numbers are in order. Then, submit your project as follows:\n",
    "\n",
    "Go to File > Print > Save as PDF. Double check that the entire notebook, from beginning to end, is in this PDF file. Upload the PDF and the notebook to Google Classroom.\n",
    "\n",
    "\n"
   ]
  },
  {
   "cell_type": "markdown",
   "id": "b0752605",
   "metadata": {},
   "source": [
    "### Team Name: WhiteRaven\n",
    "### Name and ID of Member 1: Ayush Kumar Shukla B2430033 "
   ]
  },
  {
   "cell_type": "code",
   "execution_count": 4,
   "id": "66ccb61d",
   "metadata": {},
   "outputs": [],
   "source": [
    "# Import necessary libraries\n",
    "import numpy as np\n",
    "import pandas as pd\n",
    "import matplotlib.pyplot as plt\n",
    "import time\n",
    "# Add all other libraries you would require\n"
   ]
  },
  {
   "cell_type": "markdown",
   "id": "91ab91a8",
   "metadata": {},
   "source": [
    "\n",
    "## 1. Load the Dataset\n",
    "**Instruction:** Load the chosen dataset and display its basic information and statistics. You may use any well-known dataset."
   ]
  },
  {
   "cell_type": "code",
   "execution_count": 5,
   "id": "4859e3d9",
   "metadata": {},
   "outputs": [
    {
     "ename": "ParserError",
     "evalue": "Error tokenizing data. C error: Expected 1 fields in line 9, saw 2\n",
     "output_type": "error",
     "traceback": [
      "\u001b[1;31m---------------------------------------------------------------------------\u001b[0m",
      "\u001b[1;31mParserError\u001b[0m                               Traceback (most recent call last)",
      "\u001b[1;32m~\\AppData\\Local\\Temp/ipykernel_11220/3784219586.py\u001b[0m in \u001b[0;36m<module>\u001b[1;34m\u001b[0m\n\u001b[0;32m      1\u001b[0m \u001b[1;31m# Loading a particular dataset\u001b[0m\u001b[1;33m\u001b[0m\u001b[1;33m\u001b[0m\u001b[0m\n\u001b[0;32m      2\u001b[0m \u001b[0mdata_root\u001b[0m \u001b[1;33m=\u001b[0m \u001b[1;34m\"https://www.kaggle.com/datasets/nikhatabdulsalam/world-earthquakes-1950-2023?select=world_earthquake.csv\"\u001b[0m\u001b[1;33m\u001b[0m\u001b[1;33m\u001b[0m\u001b[0m\n\u001b[1;32m----> 3\u001b[1;33m \u001b[0mdata\u001b[0m \u001b[1;33m=\u001b[0m \u001b[0mpd\u001b[0m\u001b[1;33m.\u001b[0m\u001b[0mread_csv\u001b[0m\u001b[1;33m(\u001b[0m\u001b[0mdata_root\u001b[0m\u001b[1;33m)\u001b[0m\u001b[1;33m;\u001b[0m\u001b[1;33m\u001b[0m\u001b[1;33m\u001b[0m\u001b[0m\n\u001b[0m\u001b[0;32m      4\u001b[0m \u001b[1;33m\u001b[0m\u001b[0m\n\u001b[0;32m      5\u001b[0m \u001b[1;31m# Display the first few rows of the dataset\u001b[0m\u001b[1;33m\u001b[0m\u001b[1;33m\u001b[0m\u001b[0m\n",
      "\u001b[1;32m~\\AppData\\Local\\Programs\\Python\\Python39\\lib\\site-packages\\pandas\\util\\_decorators.py\u001b[0m in \u001b[0;36mwrapper\u001b[1;34m(*args, **kwargs)\u001b[0m\n\u001b[0;32m    309\u001b[0m                     \u001b[0mstacklevel\u001b[0m\u001b[1;33m=\u001b[0m\u001b[0mstacklevel\u001b[0m\u001b[1;33m,\u001b[0m\u001b[1;33m\u001b[0m\u001b[1;33m\u001b[0m\u001b[0m\n\u001b[0;32m    310\u001b[0m                 )\n\u001b[1;32m--> 311\u001b[1;33m             \u001b[1;32mreturn\u001b[0m \u001b[0mfunc\u001b[0m\u001b[1;33m(\u001b[0m\u001b[1;33m*\u001b[0m\u001b[0margs\u001b[0m\u001b[1;33m,\u001b[0m \u001b[1;33m**\u001b[0m\u001b[0mkwargs\u001b[0m\u001b[1;33m)\u001b[0m\u001b[1;33m\u001b[0m\u001b[1;33m\u001b[0m\u001b[0m\n\u001b[0m\u001b[0;32m    312\u001b[0m \u001b[1;33m\u001b[0m\u001b[0m\n\u001b[0;32m    313\u001b[0m         \u001b[1;32mreturn\u001b[0m \u001b[0mwrapper\u001b[0m\u001b[1;33m\u001b[0m\u001b[1;33m\u001b[0m\u001b[0m\n",
      "\u001b[1;32m~\\AppData\\Local\\Programs\\Python\\Python39\\lib\\site-packages\\pandas\\io\\parsers\\readers.py\u001b[0m in \u001b[0;36mread_csv\u001b[1;34m(filepath_or_buffer, sep, delimiter, header, names, index_col, usecols, squeeze, prefix, mangle_dupe_cols, dtype, engine, converters, true_values, false_values, skipinitialspace, skiprows, skipfooter, nrows, na_values, keep_default_na, na_filter, verbose, skip_blank_lines, parse_dates, infer_datetime_format, keep_date_col, date_parser, dayfirst, cache_dates, iterator, chunksize, compression, thousands, decimal, lineterminator, quotechar, quoting, doublequote, escapechar, comment, encoding, encoding_errors, dialect, error_bad_lines, warn_bad_lines, on_bad_lines, delim_whitespace, low_memory, memory_map, float_precision, storage_options)\u001b[0m\n\u001b[0;32m    584\u001b[0m     \u001b[0mkwds\u001b[0m\u001b[1;33m.\u001b[0m\u001b[0mupdate\u001b[0m\u001b[1;33m(\u001b[0m\u001b[0mkwds_defaults\u001b[0m\u001b[1;33m)\u001b[0m\u001b[1;33m\u001b[0m\u001b[1;33m\u001b[0m\u001b[0m\n\u001b[0;32m    585\u001b[0m \u001b[1;33m\u001b[0m\u001b[0m\n\u001b[1;32m--> 586\u001b[1;33m     \u001b[1;32mreturn\u001b[0m \u001b[0m_read\u001b[0m\u001b[1;33m(\u001b[0m\u001b[0mfilepath_or_buffer\u001b[0m\u001b[1;33m,\u001b[0m \u001b[0mkwds\u001b[0m\u001b[1;33m)\u001b[0m\u001b[1;33m\u001b[0m\u001b[1;33m\u001b[0m\u001b[0m\n\u001b[0m\u001b[0;32m    587\u001b[0m \u001b[1;33m\u001b[0m\u001b[0m\n\u001b[0;32m    588\u001b[0m \u001b[1;33m\u001b[0m\u001b[0m\n",
      "\u001b[1;32m~\\AppData\\Local\\Programs\\Python\\Python39\\lib\\site-packages\\pandas\\io\\parsers\\readers.py\u001b[0m in \u001b[0;36m_read\u001b[1;34m(filepath_or_buffer, kwds)\u001b[0m\n\u001b[0;32m    486\u001b[0m \u001b[1;33m\u001b[0m\u001b[0m\n\u001b[0;32m    487\u001b[0m     \u001b[1;32mwith\u001b[0m \u001b[0mparser\u001b[0m\u001b[1;33m:\u001b[0m\u001b[1;33m\u001b[0m\u001b[1;33m\u001b[0m\u001b[0m\n\u001b[1;32m--> 488\u001b[1;33m         \u001b[1;32mreturn\u001b[0m \u001b[0mparser\u001b[0m\u001b[1;33m.\u001b[0m\u001b[0mread\u001b[0m\u001b[1;33m(\u001b[0m\u001b[0mnrows\u001b[0m\u001b[1;33m)\u001b[0m\u001b[1;33m\u001b[0m\u001b[1;33m\u001b[0m\u001b[0m\n\u001b[0m\u001b[0;32m    489\u001b[0m \u001b[1;33m\u001b[0m\u001b[0m\n\u001b[0;32m    490\u001b[0m \u001b[1;33m\u001b[0m\u001b[0m\n",
      "\u001b[1;32m~\\AppData\\Local\\Programs\\Python\\Python39\\lib\\site-packages\\pandas\\io\\parsers\\readers.py\u001b[0m in \u001b[0;36mread\u001b[1;34m(self, nrows)\u001b[0m\n\u001b[0;32m   1045\u001b[0m     \u001b[1;32mdef\u001b[0m \u001b[0mread\u001b[0m\u001b[1;33m(\u001b[0m\u001b[0mself\u001b[0m\u001b[1;33m,\u001b[0m \u001b[0mnrows\u001b[0m\u001b[1;33m=\u001b[0m\u001b[1;32mNone\u001b[0m\u001b[1;33m)\u001b[0m\u001b[1;33m:\u001b[0m\u001b[1;33m\u001b[0m\u001b[1;33m\u001b[0m\u001b[0m\n\u001b[0;32m   1046\u001b[0m         \u001b[0mnrows\u001b[0m \u001b[1;33m=\u001b[0m \u001b[0mvalidate_integer\u001b[0m\u001b[1;33m(\u001b[0m\u001b[1;34m\"nrows\"\u001b[0m\u001b[1;33m,\u001b[0m \u001b[0mnrows\u001b[0m\u001b[1;33m)\u001b[0m\u001b[1;33m\u001b[0m\u001b[1;33m\u001b[0m\u001b[0m\n\u001b[1;32m-> 1047\u001b[1;33m         \u001b[0mindex\u001b[0m\u001b[1;33m,\u001b[0m \u001b[0mcolumns\u001b[0m\u001b[1;33m,\u001b[0m \u001b[0mcol_dict\u001b[0m \u001b[1;33m=\u001b[0m \u001b[0mself\u001b[0m\u001b[1;33m.\u001b[0m\u001b[0m_engine\u001b[0m\u001b[1;33m.\u001b[0m\u001b[0mread\u001b[0m\u001b[1;33m(\u001b[0m\u001b[0mnrows\u001b[0m\u001b[1;33m)\u001b[0m\u001b[1;33m\u001b[0m\u001b[1;33m\u001b[0m\u001b[0m\n\u001b[0m\u001b[0;32m   1048\u001b[0m \u001b[1;33m\u001b[0m\u001b[0m\n\u001b[0;32m   1049\u001b[0m         \u001b[1;32mif\u001b[0m \u001b[0mindex\u001b[0m \u001b[1;32mis\u001b[0m \u001b[1;32mNone\u001b[0m\u001b[1;33m:\u001b[0m\u001b[1;33m\u001b[0m\u001b[1;33m\u001b[0m\u001b[0m\n",
      "\u001b[1;32m~\\AppData\\Local\\Programs\\Python\\Python39\\lib\\site-packages\\pandas\\io\\parsers\\c_parser_wrapper.py\u001b[0m in \u001b[0;36mread\u001b[1;34m(self, nrows)\u001b[0m\n\u001b[0;32m    221\u001b[0m         \u001b[1;32mtry\u001b[0m\u001b[1;33m:\u001b[0m\u001b[1;33m\u001b[0m\u001b[1;33m\u001b[0m\u001b[0m\n\u001b[0;32m    222\u001b[0m             \u001b[1;32mif\u001b[0m \u001b[0mself\u001b[0m\u001b[1;33m.\u001b[0m\u001b[0mlow_memory\u001b[0m\u001b[1;33m:\u001b[0m\u001b[1;33m\u001b[0m\u001b[1;33m\u001b[0m\u001b[0m\n\u001b[1;32m--> 223\u001b[1;33m                 \u001b[0mchunks\u001b[0m \u001b[1;33m=\u001b[0m \u001b[0mself\u001b[0m\u001b[1;33m.\u001b[0m\u001b[0m_reader\u001b[0m\u001b[1;33m.\u001b[0m\u001b[0mread_low_memory\u001b[0m\u001b[1;33m(\u001b[0m\u001b[0mnrows\u001b[0m\u001b[1;33m)\u001b[0m\u001b[1;33m\u001b[0m\u001b[1;33m\u001b[0m\u001b[0m\n\u001b[0m\u001b[0;32m    224\u001b[0m                 \u001b[1;31m# destructive to chunks\u001b[0m\u001b[1;33m\u001b[0m\u001b[1;33m\u001b[0m\u001b[0m\n\u001b[0;32m    225\u001b[0m                 \u001b[0mdata\u001b[0m \u001b[1;33m=\u001b[0m \u001b[0m_concatenate_chunks\u001b[0m\u001b[1;33m(\u001b[0m\u001b[0mchunks\u001b[0m\u001b[1;33m)\u001b[0m\u001b[1;33m\u001b[0m\u001b[1;33m\u001b[0m\u001b[0m\n",
      "\u001b[1;32m~\\AppData\\Local\\Programs\\Python\\Python39\\lib\\site-packages\\pandas\\_libs\\parsers.pyx\u001b[0m in \u001b[0;36mpandas._libs.parsers.TextReader.read_low_memory\u001b[1;34m()\u001b[0m\n",
      "\u001b[1;32m~\\AppData\\Local\\Programs\\Python\\Python39\\lib\\site-packages\\pandas\\_libs\\parsers.pyx\u001b[0m in \u001b[0;36mpandas._libs.parsers.TextReader._read_rows\u001b[1;34m()\u001b[0m\n",
      "\u001b[1;32m~\\AppData\\Local\\Programs\\Python\\Python39\\lib\\site-packages\\pandas\\_libs\\parsers.pyx\u001b[0m in \u001b[0;36mpandas._libs.parsers.TextReader._tokenize_rows\u001b[1;34m()\u001b[0m\n",
      "\u001b[1;32m~\\AppData\\Local\\Programs\\Python\\Python39\\lib\\site-packages\\pandas\\_libs\\parsers.pyx\u001b[0m in \u001b[0;36mpandas._libs.parsers.raise_parser_error\u001b[1;34m()\u001b[0m\n",
      "\u001b[1;31mParserError\u001b[0m: Error tokenizing data. C error: Expected 1 fields in line 9, saw 2\n"
     ]
    }
   ],
   "source": [
    "\n",
    "# Loading a particular dataset\n",
    "data_root = \"EarthquakeData.csv\"\n",
    "data = pd.read_csv(data_root);\n",
    "\n",
    "# Display the first few rows of the dataset\n",
    "\n",
    "\n"
   ]
  },
  {
   "cell_type": "code",
   "execution_count": null,
   "id": "b777acf3",
   "metadata": {},
   "outputs": [],
   "source": [
    "\n",
    "# Display basic statistics\n",
    "\n"
   ]
  },
  {
   "cell_type": "markdown",
   "id": "e955580b",
   "metadata": {},
   "source": [
    "\n",
    "## 2. Data Preprocessing\n",
    "**Instruction:** Perform any necessary preprocessing steps, including handling missing values, encoding categorical variables, and scaling features if required.\n"
   ]
  },
  {
   "cell_type": "code",
   "execution_count": null,
   "id": "8cbfc06f",
   "metadata": {},
   "outputs": [],
   "source": [
    "\n",
    "# Checking for missing values\n",
    "\n",
    "\n",
    "# Split the dataset into features (X) and target (y)\n",
    "X = \n",
    "y = \n",
    "\n",
    "# Split the data into training and test sets (e.g., 80% training, 20% testing)\n",
    "X_train, X_test, y_train, y_test = \n"
   ]
  },
  {
   "cell_type": "markdown",
   "id": "1a04f43d",
   "metadata": {},
   "source": [
    "\n",
    "## 3. Simple Linear Regression\n",
    "**Instruction:** Implement a simple linear regression model using scikit-learn.\n"
   ]
  },
  {
   "cell_type": "code",
   "execution_count": null,
   "id": "6eb402a9",
   "metadata": {},
   "outputs": [],
   "source": [
    "\n",
    "# Define the linear regression model\n",
    "\n",
    "\n",
    "# Fit the model on the training data\n",
    "\n",
    "\n",
    "# Predict on the test data\n",
    "\n",
    "\n",
    "# Calculate performance metrics [MSE, MAE, R^2]\n",
    "\n",
    "\n",
    "# Print the metrics\n",
    "\n"
   ]
  },
  {
   "cell_type": "markdown",
   "id": "4684808d",
   "metadata": {},
   "source": [
    "\n",
    "## 4. Polynomial Regression\n",
    "**Instruction:** Implement polynomial regression for degrees 2, 3, and 4.\n"
   ]
  },
  {
   "cell_type": "code",
   "execution_count": null,
   "id": "ec1578b0",
   "metadata": {},
   "outputs": [],
   "source": [
    "\n",
    "# Define polynomial features\n",
    "\n",
    "\n",
    "# Split the transformed data into training and test sets\n",
    "X_train_poly, X_test_poly, y_train, y_test =\n",
    "\n",
    "# Fit the linear model on polynomial features\n",
    "\n",
    "\n",
    "# Predict and evaluate performance\n",
    "y_pred_poly\n",
    "\n",
    "# Calculate performance metrics for polynomial regression\n",
    "\n",
    "\n",
    "# Print the metrics for polynomial regression\n"
   ]
  },
  {
   "cell_type": "markdown",
   "id": "27ec44ae",
   "metadata": {},
   "source": [
    "\n",
    "## 5. Gradient Descent Methods\n",
    "**Instruction:** Implement batch, stochastic, and mini-batch gradient descent for linear regression.\n"
   ]
  },
  {
   "cell_type": "code",
   "execution_count": null,
   "id": "be77ccfb",
   "metadata": {},
   "outputs": [],
   "source": [
    "\n",
    "# Example function for batch gradient descent. \n",
    "# Return theta and history (a list that stores cost for each epoch)\n",
    "def batch_gradient_descent(X, y, learning_rate=0.01, epochs=1000):\n",
    "\n",
    "    return theta, history\n",
    "\n",
    "# Add similar functions for stochastic and mini-batch gradient descent\n",
    "# Run them and output the performance\n"
   ]
  },
  {
   "cell_type": "markdown",
   "id": "548c4745",
   "metadata": {},
   "source": [
    "\n",
    "## 6. Regularization Techniques (Ridge,  Lasso, Elastic Net Regression and Early Stopping)\n",
    "**Instruction:** Implement Ridge, Lasso regression, Elastic Net Regression, and Early Stopping using scikit-learn and compare the results.\n"
   ]
  },
  {
   "cell_type": "code",
   "execution_count": null,
   "id": "f110e985",
   "metadata": {},
   "outputs": [],
   "source": [
    "\n",
    "# Ridge Regression\n",
    "\n",
    "\n",
    "# Lasso Regression\n",
    "\n",
    "# Elastic Net Regression\n",
    "\n",
    "# Early Stopping\n",
    "\n",
    "# Calculate performance metrics for each of these\n",
    "\n",
    "\n",
    "\n",
    "# Print the performance metrics\n",
    "\n"
   ]
  },
  {
   "cell_type": "markdown",
   "id": "16ea2dde",
   "metadata": {},
   "source": [
    "\n",
    "## 7. Normal Equation\n",
    "**Instruction:** Implement the normal equation method for linear regression.\n"
   ]
  },
  {
   "cell_type": "code",
   "execution_count": null,
   "id": "5269777d",
   "metadata": {},
   "outputs": [],
   "source": [
    "# Define Normal equation. Inputs: X and y, Output: theta\n",
    "def normal_equation(X, y):\n",
    "    # Put your code and output accordingly\n",
    "    return\n",
    "\n",
    "# Use the normal equation to find theta\n",
    "theta_ne = normal_equation(X_train, y_train)\n",
    "\n",
    "# Predict using the normal equation\n",
    "y_pred_ne = \n",
    "\n",
    "# Calculate and print the performance metrics\n",
    "\n",
    "\n"
   ]
  },
  {
   "cell_type": "markdown",
   "id": "531b879d",
   "metadata": {},
   "source": [
    "## 8. Implement linear Regression using SVD\n"
   ]
  },
  {
   "cell_type": "code",
   "execution_count": null,
   "id": "5a6a807a",
   "metadata": {},
   "outputs": [],
   "source": [
    "# Define SVD equation. Inputs: X and y, Output: theta\n",
    "def svd_equation(X, y):\n",
    "    # Put your code and output accordingly\n",
    "    return\n",
    "\n",
    "# Use the svd equation to find theta\n",
    "\n",
    "# Predict using the svd equation\n",
    "\n",
    "# Calculate the performance metrics\n",
    "\n",
    "\n",
    "# Print the performance metrics\n",
    "\n"
   ]
  },
  {
   "cell_type": "markdown",
   "id": "02b52a02",
   "metadata": {},
   "source": [
    "\n",
    "## 9. Performance Metrics and Computational Analysis\n",
    "**Instruction:** Compare the performance and computational time of all models implemented.\n"
   ]
  },
  {
   "cell_type": "code",
   "execution_count": null,
   "id": "0f37e5c6",
   "metadata": {},
   "outputs": [],
   "source": [
    "\n",
    "# Example: Timing the training process\n",
    "start_time = time.time()\n",
    "linear_model.fit(X_train, y_train)\n",
    "end_time = time.time()\n",
    "print(f'Training Time (Linear Regression): {end_time - start_time} seconds')\n",
    "\n",
    "# Plot performance comparison (students to fill in the details)\n",
    "# Students should create plots comparing the performance metrics (MSE, MAE, R2) and computational time for each model.\n"
   ]
  },
  {
   "cell_type": "markdown",
   "id": "04e1753d",
   "metadata": {},
   "source": [
    "\n",
    "## 10. Conclusion\n",
    "**Instruction:** Summarize the findings from the analysis, including which models performed best in terms of accuracy and computational efficiency.\n"
   ]
  },
  {
   "cell_type": "code",
   "execution_count": null,
   "id": "2f41771e",
   "metadata": {},
   "outputs": [],
   "source": []
  }
 ],
 "metadata": {
  "kernelspec": {
   "display_name": "Python 3 (ipykernel)",
   "language": "python",
   "name": "python3"
  },
  "language_info": {
   "codemirror_mode": {
    "name": "ipython",
    "version": 3
   },
   "file_extension": ".py",
   "mimetype": "text/x-python",
   "name": "python",
   "nbconvert_exporter": "python",
   "pygments_lexer": "ipython3",
   "version": "3.9.7"
  }
 },
 "nbformat": 4,
 "nbformat_minor": 5
}
